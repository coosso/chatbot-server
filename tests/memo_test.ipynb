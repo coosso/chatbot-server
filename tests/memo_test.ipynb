{
 "cells": [
  {
   "cell_type": "code",
   "execution_count": 18,
   "id": "17486ffd",
   "metadata": {},
   "outputs": [
    {
     "name": "stdout",
     "output_type": "stream",
     "text": [
      "\n",
      "\n",
      "\u001b[1m> Entering new ConversationChain chain...\u001b[0m\n",
      "Prompt after formatting:\n",
      "\u001b[32;1m\u001b[1;3mThe following is a friendly conversation between a human and an AI. The AI is talkative and provides lots of specific details from its context. If the AI does not know the answer to a question, it truthfully says it does not know.\n",
      "\n",
      "Current conversation:\n",
      "\n",
      "Human: My name is Jack\n",
      "AI:\u001b[0m\n",
      "\n",
      "\u001b[1m> Finished chain.\u001b[0m\n"
     ]
    },
    {
     "data": {
      "text/plain": [
       "\"Hello, Jack! It's nice to meet you. I'm an AI assistant designed to help with all sorts of questions and conversations. I love learning new things and sharing interesting details. How can I assist you today?\""
      ]
     },
     "execution_count": 18,
     "metadata": {},
     "output_type": "execute_result"
    }
   ],
   "source": [
    "from langchain_community.chat_models import ChatTongyi\n",
    "from langchain.chains import ConversationChain\n",
    "from langchain.memory import ConversationBufferWindowMemory\n",
    "\n",
    "\n",
    "chat_model = ChatTongyi(model=\"qwen-plus\")\n",
    "\n",
    "conversation = ConversationChain(\n",
    "    llm=chat_model,\n",
    "    verbose=True,\n",
    "    memory=ConversationBufferWindowMemory(k=1),\n",
    ")\n",
    "conversation.predict(input=\"My name is Jack\")"
   ]
  },
  {
   "cell_type": "code",
   "execution_count": 19,
   "id": "5374c71c",
   "metadata": {},
   "outputs": [
    {
     "data": {
      "text/plain": [
       "ConversationBufferWindowMemory(chat_memory=InMemoryChatMessageHistory(messages=[HumanMessage(content='My name is Jack', additional_kwargs={}, response_metadata={}), AIMessage(content=\"Hello, Jack! It's nice to meet you. I'm an AI assistant designed to help with all sorts of questions and conversations. I love learning new things and sharing interesting details. How can I assist you today?\", additional_kwargs={}, response_metadata={})]), k=1)"
      ]
     },
     "execution_count": 19,
     "metadata": {},
     "output_type": "execute_result"
    }
   ],
   "source": [
    "conversation.memory"
   ]
  },
  {
   "cell_type": "code",
   "execution_count": 20,
   "id": "9d390880",
   "metadata": {},
   "outputs": [
    {
     "name": "stdout",
     "output_type": "stream",
     "text": [
      "\n",
      "\n",
      "\u001b[1m> Entering new ConversationChain chain...\u001b[0m\n",
      "Prompt after formatting:\n",
      "\u001b[32;1m\u001b[1;3mThe following is a friendly conversation between a human and an AI. The AI is talkative and provides lots of specific details from its context. If the AI does not know the answer to a question, it truthfully says it does not know.\n",
      "\n",
      "Current conversation:\n",
      "Human: My name is Jack\n",
      "AI: Hello, Jack! It's nice to meet you. I'm an AI assistant designed to help with all sorts of questions and conversations. I love learning new things and sharing interesting details. How can I assist you today?\n",
      "Human: I love food\n",
      "AI:\u001b[0m\n",
      "\n",
      "\u001b[1m> Finished chain.\u001b[0m\n"
     ]
    },
    {
     "data": {
      "text/plain": [
       "\"That's fantastic to hear, Jack! Food is such a wonderful part of life—both as a source of nourishment and a way to connect with others. Are you into cooking, trying new restaurants, exploring different cuisines, or maybe all of the above? I can share recipes, food facts, or even tips on food pairing and presentation if you're interested! What kind of foods do you love the most?\""
      ]
     },
     "execution_count": 20,
     "metadata": {},
     "output_type": "execute_result"
    }
   ],
   "source": [
    "conversation.predict(input=\"I love food\")"
   ]
  },
  {
   "cell_type": "code",
   "execution_count": 22,
   "id": "112c8a4d",
   "metadata": {},
   "outputs": [
    {
     "name": "stdout",
     "output_type": "stream",
     "text": [
      "\n",
      "\n",
      "\u001b[1m> Entering new ConversationChain chain...\u001b[0m\n",
      "Prompt after formatting:\n",
      "\u001b[32;1m\u001b[1;3mThe following is a friendly conversation between a human and an AI. The AI is talkative and provides lots of specific details from its context. If the AI does not know the answer to a question, it truthfully says it does not know.\n",
      "\n",
      "Current conversation:\n",
      "Human: what is my name, and what I love food\n",
      "AI: Your name is Jack, and you love food! 🍽️ In our previous message, you mentioned your passion for food, which can include anything from enjoying different cuisines to trying new dishes or even cooking. Let me know if you'd like to dive deeper into any specific food-related topics—I'm always excited to chat about this! 🌶️🍴\n",
      "Human: what I love food\n",
      "AI:\u001b[0m\n",
      "\n",
      "\u001b[1m> Finished chain.\u001b[0m\n"
     ]
    },
    {
     "data": {
      "text/plain": [
       "\"Ah, I see what you're getting at! You love food—plain and simple! 🍔🍕🍰 In our previous conversation, you mentioned your love for food, and while we didn't go into specific dishes or cuisines just yet, I’d be thrilled to help you explore your culinary interests! Whether it’s comfort food, gourmet dishes, street food, or even the best places to eat in your area, I’m all ears and happy to share in the delicious conversation. Want to tell me more about what kinds of food you enjoy? 😊🍴\""
      ]
     },
     "execution_count": 22,
     "metadata": {},
     "output_type": "execute_result"
    }
   ],
   "source": [
    "conversation.predict(input=\"what I love food\")"
   ]
  },
  {
   "cell_type": "code",
   "execution_count": 23,
   "id": "35bb28d1",
   "metadata": {},
   "outputs": [
    {
     "name": "stdout",
     "output_type": "stream",
     "text": [
      "\n",
      "\n",
      "\u001b[1m> Entering new ConversationChain chain...\u001b[0m\n",
      "Prompt after formatting:\n",
      "\u001b[32;1m\u001b[1;3mThe following is a friendly conversation between a human and an AI. The AI is talkative and provides lots of specific details from its context. If the AI does not know the answer to a question, it truthfully says it does not know.\n",
      "\n",
      "Current conversation:\n",
      "Human: what I love food\n",
      "AI: Ah, I see what you're getting at! You love food—plain and simple! 🍔🍕🍰 In our previous conversation, you mentioned your love for food, and while we didn't go into specific dishes or cuisines just yet, I’d be thrilled to help you explore your culinary interests! Whether it’s comfort food, gourmet dishes, street food, or even the best places to eat in your area, I’m all ears and happy to share in the delicious conversation. Want to tell me more about what kinds of food you enjoy? 😊🍴\n",
      "Human: what my name\n",
      "AI:\u001b[0m\n",
      "\n",
      "\u001b[1m> Finished chain.\u001b[0m\n"
     ]
    },
    {
     "data": {
      "text/plain": [
       "\"Oh, good catch! 😊 I notice that we haven't actually established your name yet. I’m happy to know it if you'd like to share it with me—I always enjoy putting a name to the friendly face (or in this case, the friendly message)! So, what would you like me to call you?\""
      ]
     },
     "execution_count": 23,
     "metadata": {},
     "output_type": "execute_result"
    }
   ],
   "source": [
    "conversation.predict(input=\"what my name\")"
   ]
  },
  {
   "cell_type": "code",
   "execution_count": 25,
   "id": "bcac5d6f",
   "metadata": {},
   "outputs": [
    {
     "name": "stderr",
     "output_type": "stream",
     "text": [
      "C:\\Users\\jiawei.wu\\AppData\\Local\\Temp\\ipykernel_11188\\2958585173.py:7: LangChainDeprecationWarning: Please see the migration guide at: https://python.langchain.com/docs/versions/migrating_memory/\n",
      "  llm=llm, memory=ConversationSummaryMemory(llm=llm), verbose=True\n"
     ]
    }
   ],
   "source": [
    "from langchain.llms import Tongyi\n",
    "from langchain.memory import ConversationSummaryMemory\n",
    "from langchain.chains import ConversationChain\n",
    "\n",
    "llm = Tongyi(model=\"qwen-plus\", temperature=0)\n",
    "conversation = ConversationChain(\n",
    "    llm=llm, memory=ConversationSummaryMemory(llm=llm), verbose=True\n",
    ")"
   ]
  },
  {
   "cell_type": "code",
   "execution_count": null,
   "id": "2f3ab41b",
   "metadata": {},
   "outputs": [],
   "source": [
    "conversation.predict(input=\"Hello\")"
   ]
  }
 ],
 "metadata": {
  "kernelspec": {
   "display_name": "chatbot-server",
   "language": "python",
   "name": "python3"
  },
  "language_info": {
   "codemirror_mode": {
    "name": "ipython",
    "version": 3
   },
   "file_extension": ".py",
   "mimetype": "text/x-python",
   "name": "python",
   "nbconvert_exporter": "python",
   "pygments_lexer": "ipython3",
   "version": "3.12.10"
  }
 },
 "nbformat": 4,
 "nbformat_minor": 5
}
